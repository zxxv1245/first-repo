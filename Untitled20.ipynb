{
 "cells": [
  {
   "cell_type": "markdown",
   "id": "a07572e6",
   "metadata": {},
   "source": [
    "### git config --global user.mail \"내 이메일\"\n",
    "### git config --global user.name \"내 이름\"\n",
    "### git log --l \n",
    "### git log --oneline \n",
    "\n",
    "\n",
    "#### git remote add origin \"주소\"\n",
    "#### git remote -v\n",
    "#### git push -u origin master 내 컴퓨터에서 브라우저에 올리기\n",
    "#### 원격 저장소에서 가져오기 \n",
    "##### - 원격 레포지토리와 연결된 폴더가 없으면 clone \n",
    "##### - 있으면 pull\n",
    "##### - clone 받은 프로젝트는 이미 git init이 되어있다."
   ]
  }
 ],
 "metadata": {
  "kernelspec": {
   "display_name": "Python 3 (ipykernel)",
   "language": "python",
   "name": "python3"
  },
  "language_info": {
   "codemirror_mode": {
    "name": "ipython",
    "version": 3
   },
   "file_extension": ".py",
   "mimetype": "text/x-python",
   "name": "python",
   "nbconvert_exporter": "python",
   "pygments_lexer": "ipython3",
   "version": "3.11.5"
  }
 },
 "nbformat": 4,
 "nbformat_minor": 5
}
