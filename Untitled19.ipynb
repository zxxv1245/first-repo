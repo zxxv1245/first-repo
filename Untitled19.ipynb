{
 "cells": [
  {
   "cell_type": "markdown",
   "id": "ec73fbb5",
   "metadata": {},
   "source": [
    "# GIT 이란?\n",
    "\n",
    "작성, 꾸미기. 구조화를 동시에 하기 위해서 만들어진 것?"
   ]
  },
  {
   "cell_type": "markdown",
   "id": "0f5d9b68",
   "metadata": {},
   "source": [
    "# 1. markdown \n",
    "# 2.CLI\n",
    "# 3.Git\n",
    "\n",
    "\n",
    "\n",
    "## CLI 명령어\n",
    "\n",
    "### touch < = 새 파일 생성\n",
    "### mkdir < = 새 폴더 생성\n",
    "### ls -a < = 전체 파일 확인\n",
    "\n",
    "### start 파일 시작\n",
    "### code . vs 코드 실행\n",
    "### rm 파일이름 <= 파일삭제\n",
    "### rm -y 폴더 이름 ?\n",
    "\n",
    "### git의 3가지 영역\n",
    "#### working Directory /Staging Area /Repository\n",
    "\n",
    "\n",
    "#### Staging Aread 워킹과 레포지토리 사이 중간 역할\n",
    "\n",
    "\n",
    "#### commit 을하면 Repository에 들어감?\n",
    "\n",
    "### git init  <= .git 이라는 숨김 폴더 생성?\n",
    "### 로컬 저장소 설정(초기화)\n",
    "### git의 버전 관리를 시작할 디렉토리에서 진행\n",
    "\n",
    "### git add \n",
    "#### 변경사항이 있는 파일을 staging area에 추가\n",
    "\n",
    "#### git status 상태\n",
    "\n",
    "\n",
    "### git add > git commit -m 이 순서"
   ]
  },
  {
   "cell_type": "code",
   "execution_count": null,
   "id": "b3051a5f",
   "metadata": {},
   "outputs": [],
   "source": []
  }
 ],
 "metadata": {
  "kernelspec": {
   "display_name": "Python 3 (ipykernel)",
   "language": "python",
   "name": "python3"
  },
  "language_info": {
   "codemirror_mode": {
    "name": "ipython",
    "version": 3
   },
   "file_extension": ".py",
   "mimetype": "text/x-python",
   "name": "python",
   "nbconvert_exporter": "python",
   "pygments_lexer": "ipython3",
   "version": "3.11.5"
  }
 },
 "nbformat": 4,
 "nbformat_minor": 5
}
